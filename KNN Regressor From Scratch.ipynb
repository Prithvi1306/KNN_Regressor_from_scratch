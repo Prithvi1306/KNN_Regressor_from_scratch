{
 "cells": [
  {
   "cell_type": "markdown",
   "id": "79a88d03",
   "metadata": {},
   "source": [
    "## KNN Regressior From Scratch for K = 5"
   ]
  },
  {
   "cell_type": "code",
   "execution_count": 15,
   "id": "ca91acb5",
   "metadata": {},
   "outputs": [],
   "source": [
    "# importing the necessary libraries\n",
    "import pandas as pd\n",
    "import numpy as np\n",
    "\n",
    "from sklearn.neighbors import KNeighborsRegressor\n",
    "from sklearn.metrics import mean_absolute_percentage_error"
   ]
  },
  {
   "cell_type": "raw",
   "id": "cfcf26d0",
   "metadata": {},
   "source": [
    "Reading data and Checking Shape"
   ]
  },
  {
   "cell_type": "code",
   "execution_count": 2,
   "id": "ad6aa19d",
   "metadata": {},
   "outputs": [],
   "source": [
    "knn_tr = pd.read_excel('knn.xlsx',sheet_name='train')"
   ]
  },
  {
   "cell_type": "code",
   "execution_count": 3,
   "id": "25646d3f",
   "metadata": {},
   "outputs": [
    {
     "data": {
      "text/html": [
       "<div>\n",
       "<style scoped>\n",
       "    .dataframe tbody tr th:only-of-type {\n",
       "        vertical-align: middle;\n",
       "    }\n",
       "\n",
       "    .dataframe tbody tr th {\n",
       "        vertical-align: top;\n",
       "    }\n",
       "\n",
       "    .dataframe thead th {\n",
       "        text-align: right;\n",
       "    }\n",
       "</style>\n",
       "<table border=\"1\" class=\"dataframe\">\n",
       "  <thead>\n",
       "    <tr style=\"text-align: right;\">\n",
       "      <th></th>\n",
       "      <th>X1</th>\n",
       "      <th>X2</th>\n",
       "      <th>X3</th>\n",
       "      <th>y</th>\n",
       "    </tr>\n",
       "  </thead>\n",
       "  <tbody>\n",
       "    <tr>\n",
       "      <th>0</th>\n",
       "      <td>-0.059533</td>\n",
       "      <td>0.763686</td>\n",
       "      <td>0.317046</td>\n",
       "      <td>-0.070229</td>\n",
       "    </tr>\n",
       "    <tr>\n",
       "      <th>1</th>\n",
       "      <td>1.916473</td>\n",
       "      <td>-0.378508</td>\n",
       "      <td>-0.411538</td>\n",
       "      <td>1.887648</td>\n",
       "    </tr>\n",
       "    <tr>\n",
       "      <th>2</th>\n",
       "      <td>-0.237390</td>\n",
       "      <td>-0.244097</td>\n",
       "      <td>-1.053888</td>\n",
       "      <td>-0.316625</td>\n",
       "    </tr>\n",
       "    <tr>\n",
       "      <th>3</th>\n",
       "      <td>-0.579256</td>\n",
       "      <td>0.135478</td>\n",
       "      <td>-0.507913</td>\n",
       "      <td>-0.627537</td>\n",
       "    </tr>\n",
       "    <tr>\n",
       "      <th>4</th>\n",
       "      <td>0.873726</td>\n",
       "      <td>-1.569405</td>\n",
       "      <td>0.435819</td>\n",
       "      <td>0.987233</td>\n",
       "    </tr>\n",
       "  </tbody>\n",
       "</table>\n",
       "</div>"
      ],
      "text/plain": [
       "         X1        X2        X3         y\n",
       "0 -0.059533  0.763686  0.317046 -0.070229\n",
       "1  1.916473 -0.378508 -0.411538  1.887648\n",
       "2 -0.237390 -0.244097 -1.053888 -0.316625\n",
       "3 -0.579256  0.135478 -0.507913 -0.627537\n",
       "4  0.873726 -1.569405  0.435819  0.987233"
      ]
     },
     "execution_count": 3,
     "metadata": {},
     "output_type": "execute_result"
    }
   ],
   "source": [
    "knn_tr.head()"
   ]
  },
  {
   "cell_type": "code",
   "execution_count": 4,
   "id": "0b20f378",
   "metadata": {},
   "outputs": [
    {
     "data": {
      "text/plain": [
       "(719, 4)"
      ]
     },
     "execution_count": 4,
     "metadata": {},
     "output_type": "execute_result"
    }
   ],
   "source": [
    "knn_tr.shape"
   ]
  },
  {
   "cell_type": "code",
   "execution_count": 5,
   "id": "4f56ad5b",
   "metadata": {},
   "outputs": [],
   "source": [
    "knn_te = pd.read_excel('knn.xlsx',sheet_name='test') "
   ]
  },
  {
   "cell_type": "code",
   "execution_count": 6,
   "id": "685f392d",
   "metadata": {},
   "outputs": [
    {
     "data": {
      "text/html": [
       "<div>\n",
       "<style scoped>\n",
       "    .dataframe tbody tr th:only-of-type {\n",
       "        vertical-align: middle;\n",
       "    }\n",
       "\n",
       "    .dataframe tbody tr th {\n",
       "        vertical-align: top;\n",
       "    }\n",
       "\n",
       "    .dataframe thead th {\n",
       "        text-align: right;\n",
       "    }\n",
       "</style>\n",
       "<table border=\"1\" class=\"dataframe\">\n",
       "  <thead>\n",
       "    <tr style=\"text-align: right;\">\n",
       "      <th></th>\n",
       "      <th>X1</th>\n",
       "      <th>X2</th>\n",
       "      <th>X3</th>\n",
       "      <th>y</th>\n",
       "    </tr>\n",
       "  </thead>\n",
       "  <tbody>\n",
       "    <tr>\n",
       "      <th>0</th>\n",
       "      <td>0.295855</td>\n",
       "      <td>0.145806</td>\n",
       "      <td>1.381112</td>\n",
       "      <td>0.408699</td>\n",
       "    </tr>\n",
       "    <tr>\n",
       "      <th>1</th>\n",
       "      <td>1.461282</td>\n",
       "      <td>0.807982</td>\n",
       "      <td>-1.021636</td>\n",
       "      <td>1.320564</td>\n",
       "    </tr>\n",
       "    <tr>\n",
       "      <th>2</th>\n",
       "      <td>-1.487283</td>\n",
       "      <td>0.294966</td>\n",
       "      <td>-1.093920</td>\n",
       "      <td>-1.589954</td>\n",
       "    </tr>\n",
       "    <tr>\n",
       "      <th>3</th>\n",
       "      <td>1.061516</td>\n",
       "      <td>1.475837</td>\n",
       "      <td>-0.987645</td>\n",
       "      <td>0.892074</td>\n",
       "    </tr>\n",
       "    <tr>\n",
       "      <th>4</th>\n",
       "      <td>-0.189910</td>\n",
       "      <td>-0.100671</td>\n",
       "      <td>-1.146587</td>\n",
       "      <td>-0.284978</td>\n",
       "    </tr>\n",
       "  </tbody>\n",
       "</table>\n",
       "</div>"
      ],
      "text/plain": [
       "         X1        X2        X3         y\n",
       "0  0.295855  0.145806  1.381112  0.408699\n",
       "1  1.461282  0.807982 -1.021636  1.320564\n",
       "2 -1.487283  0.294966 -1.093920 -1.589954\n",
       "3  1.061516  1.475837 -0.987645  0.892074\n",
       "4 -0.189910 -0.100671 -1.146587 -0.284978"
      ]
     },
     "execution_count": 6,
     "metadata": {},
     "output_type": "execute_result"
    }
   ],
   "source": [
    "knn_te.head()"
   ]
  },
  {
   "cell_type": "raw",
   "id": "73f949f0",
   "metadata": {},
   "source": [
    "Taking k = 5"
   ]
  },
  {
   "cell_type": "code",
   "execution_count": 7,
   "id": "bde9cbed",
   "metadata": {},
   "outputs": [],
   "source": [
    "k=5"
   ]
  },
  {
   "cell_type": "code",
   "execution_count": 8,
   "id": "aedae12f",
   "metadata": {},
   "outputs": [],
   "source": [
    "# creating an empty list of dist to add the distance\n",
    "dist=[]\n",
    "\n",
    "# crating an empty list of y_pred to add predicted value as per the mean of nearest 3 values\n",
    "y_pred=[]\n",
    "\n",
    "# itration is done as per the no od row os in test data\n",
    "for i in range(knn_te.shape[0]):\n",
    "    \n",
    "    #  in t his itration is done as per the no of rows of train data\n",
    "    for j in range(knn_tr.shape[0]):\n",
    "        \n",
    "        #  creating vector for train and test with the features \n",
    "        a = np.array([knn_te.iloc[i,0],knn_te.iloc[i,1],knn_te.iloc[i,2]])\n",
    "        b = np.array([knn_tr.iloc[j,0],knn_tr.iloc[j,1],knn_tr.iloc[j,2]])\n",
    "        \n",
    "        # finding the euclidean distane between the vectors using np.linalg.norm(vector,2) [ here is 2 is for euclidean distance]\n",
    "        x = np.linalg.norm(a-b,2)\n",
    "        \n",
    "        # the calculated distance is added into the list\n",
    "        dist.append(x)\n",
    "    \n",
    "    # storing the index of sorted distances in ind\n",
    "    ind = np.argsort(dist)[:k]\n",
    "    \n",
    "    # taking the top 3 index from ind that is the 3 neared values and finding the mean \n",
    "    y_hat = knn_tr.iloc[ind,3].sum()/k\n",
    "    \n",
    "    # Adding the mean value to the list of predictred values\n",
    "    y_pred.append(y_hat)\n",
    "    \n",
    "    # emptying the list again to store the distanes for the nest test row\n",
    "    dist = []"
   ]
  },
  {
   "cell_type": "code",
   "execution_count": 9,
   "id": "f1e11e3e",
   "metadata": {},
   "outputs": [],
   "source": [
    "# Ass the column of predicted values to the test data freame\n",
    "knn_te['y_pred']=pd.Series(y_pred)"
   ]
  },
  {
   "cell_type": "code",
   "execution_count": 10,
   "id": "73e5f92a",
   "metadata": {
    "scrolled": true
   },
   "outputs": [
    {
     "data": {
      "text/html": [
       "<div>\n",
       "<style scoped>\n",
       "    .dataframe tbody tr th:only-of-type {\n",
       "        vertical-align: middle;\n",
       "    }\n",
       "\n",
       "    .dataframe tbody tr th {\n",
       "        vertical-align: top;\n",
       "    }\n",
       "\n",
       "    .dataframe thead th {\n",
       "        text-align: right;\n",
       "    }\n",
       "</style>\n",
       "<table border=\"1\" class=\"dataframe\">\n",
       "  <thead>\n",
       "    <tr style=\"text-align: right;\">\n",
       "      <th></th>\n",
       "      <th>X1</th>\n",
       "      <th>X2</th>\n",
       "      <th>X3</th>\n",
       "      <th>y</th>\n",
       "      <th>y_pred</th>\n",
       "    </tr>\n",
       "  </thead>\n",
       "  <tbody>\n",
       "    <tr>\n",
       "      <th>0</th>\n",
       "      <td>0.295855</td>\n",
       "      <td>0.145806</td>\n",
       "      <td>1.381112</td>\n",
       "      <td>0.408699</td>\n",
       "      <td>0.339027</td>\n",
       "    </tr>\n",
       "    <tr>\n",
       "      <th>1</th>\n",
       "      <td>1.461282</td>\n",
       "      <td>0.807982</td>\n",
       "      <td>-1.021636</td>\n",
       "      <td>1.320564</td>\n",
       "      <td>1.236043</td>\n",
       "    </tr>\n",
       "    <tr>\n",
       "      <th>2</th>\n",
       "      <td>-1.487283</td>\n",
       "      <td>0.294966</td>\n",
       "      <td>-1.093920</td>\n",
       "      <td>-1.589954</td>\n",
       "      <td>-1.461161</td>\n",
       "    </tr>\n",
       "    <tr>\n",
       "      <th>3</th>\n",
       "      <td>1.061516</td>\n",
       "      <td>1.475837</td>\n",
       "      <td>-0.987645</td>\n",
       "      <td>0.892074</td>\n",
       "      <td>0.810368</td>\n",
       "    </tr>\n",
       "    <tr>\n",
       "      <th>4</th>\n",
       "      <td>-0.189910</td>\n",
       "      <td>-0.100671</td>\n",
       "      <td>-1.146587</td>\n",
       "      <td>-0.284978</td>\n",
       "      <td>-0.259908</td>\n",
       "    </tr>\n",
       "    <tr>\n",
       "      <th>5</th>\n",
       "      <td>-0.824063</td>\n",
       "      <td>0.118634</td>\n",
       "      <td>1.967514</td>\n",
       "      <td>-0.651070</td>\n",
       "      <td>-0.598001</td>\n",
       "    </tr>\n",
       "    <tr>\n",
       "      <th>6</th>\n",
       "      <td>0.613789</td>\n",
       "      <td>1.501849</td>\n",
       "      <td>-0.542953</td>\n",
       "      <td>0.485099</td>\n",
       "      <td>0.481394</td>\n",
       "    </tr>\n",
       "    <tr>\n",
       "      <th>7</th>\n",
       "      <td>-0.603142</td>\n",
       "      <td>-0.985014</td>\n",
       "      <td>1.155454</td>\n",
       "      <td>-0.446815</td>\n",
       "      <td>-0.358211</td>\n",
       "    </tr>\n",
       "    <tr>\n",
       "      <th>8</th>\n",
       "      <td>-0.018134</td>\n",
       "      <td>0.223406</td>\n",
       "      <td>2.094552</td>\n",
       "      <td>0.155760</td>\n",
       "      <td>0.045694</td>\n",
       "    </tr>\n",
       "    <tr>\n",
       "      <th>9</th>\n",
       "      <td>0.067561</td>\n",
       "      <td>-0.611980</td>\n",
       "      <td>0.279917</td>\n",
       "      <td>0.123230</td>\n",
       "      <td>0.056683</td>\n",
       "    </tr>\n",
       "  </tbody>\n",
       "</table>\n",
       "</div>"
      ],
      "text/plain": [
       "         X1        X2        X3         y    y_pred\n",
       "0  0.295855  0.145806  1.381112  0.408699  0.339027\n",
       "1  1.461282  0.807982 -1.021636  1.320564  1.236043\n",
       "2 -1.487283  0.294966 -1.093920 -1.589954 -1.461161\n",
       "3  1.061516  1.475837 -0.987645  0.892074  0.810368\n",
       "4 -0.189910 -0.100671 -1.146587 -0.284978 -0.259908\n",
       "5 -0.824063  0.118634  1.967514 -0.651070 -0.598001\n",
       "6  0.613789  1.501849 -0.542953  0.485099  0.481394\n",
       "7 -0.603142 -0.985014  1.155454 -0.446815 -0.358211\n",
       "8 -0.018134  0.223406  2.094552  0.155760  0.045694\n",
       "9  0.067561 -0.611980  0.279917  0.123230  0.056683"
      ]
     },
     "execution_count": 10,
     "metadata": {},
     "output_type": "execute_result"
    }
   ],
   "source": [
    "# print top 10 values in test dataframe\n",
    "knn_te.head(10)"
   ]
  },
  {
   "cell_type": "code",
   "execution_count": 11,
   "id": "c17f0aa4",
   "metadata": {},
   "outputs": [
    {
     "data": {
      "text/plain": [
       "0.4426275854668177"
      ]
     },
     "execution_count": 11,
     "metadata": {},
     "output_type": "execute_result"
    }
   ],
   "source": [
    "# calculate MAPE manually\n",
    "MAPE = np.mean(abs((knn_te['y'] - knn_te['y_pred'])/knn_te['y']))\n",
    "MAPE"
   ]
  },
  {
   "cell_type": "code",
   "execution_count": 16,
   "id": "8ce11fb1",
   "metadata": {},
   "outputs": [
    {
     "data": {
      "text/plain": [
       "0.4426275854668177"
      ]
     },
     "execution_count": 16,
     "metadata": {},
     "output_type": "execute_result"
    }
   ],
   "source": [
    "# calculate MAPE using library\n",
    "MAPE = mean_absolute_percentage_error(knn_te['y'], knn_te['y_pred'])\n",
    "MAPE"
   ]
  },
  {
   "cell_type": "markdown",
   "id": "421b2d05",
   "metadata": {},
   "source": [
    "### Using libraries to verify the metrics"
   ]
  },
  {
   "cell_type": "code",
   "execution_count": 17,
   "id": "2abe4775",
   "metadata": {},
   "outputs": [],
   "source": [
    "knn_tr = pd.read_excel('knn.xlsx',sheet_name='train')\n",
    "knn_te = pd.read_excel('knn.xlsx',sheet_name='test') "
   ]
  },
  {
   "cell_type": "code",
   "execution_count": 22,
   "id": "db3cb099",
   "metadata": {},
   "outputs": [],
   "source": [
    "knnR = KNeighborsRegressor(n_neighbors=5)"
   ]
  },
  {
   "cell_type": "code",
   "execution_count": 23,
   "id": "051e2a87",
   "metadata": {},
   "outputs": [
    {
     "data": {
      "text/plain": [
       "KNeighborsRegressor()"
      ]
     },
     "execution_count": 23,
     "metadata": {},
     "output_type": "execute_result"
    }
   ],
   "source": [
    "knnR.fit(knn_tr.iloc[:,0:3],knn_tr.iloc[:,3])"
   ]
  },
  {
   "cell_type": "code",
   "execution_count": 24,
   "id": "af3e93c2",
   "metadata": {},
   "outputs": [],
   "source": [
    "test_pred = knnR.predict(knn_te.iloc[:,0:3])"
   ]
  },
  {
   "cell_type": "code",
   "execution_count": 25,
   "id": "515f9d02",
   "metadata": {},
   "outputs": [
    {
     "data": {
      "text/plain": [
       "0.4426275854668177"
      ]
     },
     "execution_count": 25,
     "metadata": {},
     "output_type": "execute_result"
    }
   ],
   "source": [
    "mean_absolute_percentage_error(knn_te['y'],test_pred)"
   ]
  },
  {
   "cell_type": "markdown",
   "id": "88de3f4a",
   "metadata": {},
   "source": [
    "### After validation it is observed that the KNN regressor scratch MAPE and sklearn library MAPE are same"
   ]
  }
 ],
 "metadata": {
  "kernelspec": {
   "display_name": "Python 3",
   "language": "python",
   "name": "python3"
  },
  "language_info": {
   "codemirror_mode": {
    "name": "ipython",
    "version": 3
   },
   "file_extension": ".py",
   "mimetype": "text/x-python",
   "name": "python",
   "nbconvert_exporter": "python",
   "pygments_lexer": "ipython3",
   "version": "3.9.13"
  }
 },
 "nbformat": 4,
 "nbformat_minor": 5
}
